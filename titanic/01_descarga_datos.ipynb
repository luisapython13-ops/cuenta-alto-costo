{
 "cells": [
  {
   "cell_type": "code",
   "execution_count": 1,
   "id": "5f76d465",
   "metadata": {},
   "outputs": [],
   "source": [
    "# Librerías base\n",
    "\n",
    "from pathlib import Path\n",
    "import pandas as pd"
   ]
  },
  {
   "cell_type": "code",
   "execution_count": 2,
   "id": "efd47ecd",
   "metadata": {},
   "outputs": [
    {
     "name": "stdout",
     "output_type": "stream",
     "text": [
      "<class 'pandas.core.frame.DataFrame'>\n",
      "RangeIndex: 1309 entries, 0 to 1308\n",
      "Data columns (total 14 columns):\n",
      " #   Column     Non-Null Count  Dtype \n",
      "---  ------     --------------  ----- \n",
      " 0   pclass     1309 non-null   int64 \n",
      " 1   survived   1309 non-null   int64 \n",
      " 2   name       1309 non-null   object\n",
      " 3   sex        1309 non-null   object\n",
      " 4   age        1309 non-null   object\n",
      " 5   sibsp      1309 non-null   int64 \n",
      " 6   parch      1309 non-null   int64 \n",
      " 7   ticket     1309 non-null   object\n",
      " 8   fare       1309 non-null   object\n",
      " 9   cabin      1309 non-null   object\n",
      " 10  embarked   1309 non-null   object\n",
      " 11  boat       1309 non-null   object\n",
      " 12  body       1309 non-null   object\n",
      " 13  home.dest  1309 non-null   object\n",
      "dtypes: int64(4), object(10)\n",
      "memory usage: 143.3+ KB\n"
     ]
    }
   ],
   "source": [
    "url_datos = \"https://www.openml.org/data/get_csv/16826755/phpMYEkMl\"\n",
    "\n",
    "datos_titanic = pd.read_csv(url_datos, low_memory=False)\n",
    "\n",
    "datos_titanic.info()"
   ]
  },
  {
   "cell_type": "markdown",
   "id": "2f49b944",
   "metadata": {},
   "source": [
    "Las siguientes variables se relacionan con la variable \"survived\":\n",
    "\n",
    "* `boat`: El número del bote salvavidas (si sobrevivieron)\n",
    "* `body`: El número del cuerpo (si no sobrevivieron y el cuerpo fue recuperado)\n",
    "\n",
    "**Tener presente** un concepto fundamental que se conoce como ***data leakage***, el cual significa que algunas columnas podrían traer consigo la variable que vamos a predecir. Por ejemplo: si conocemos el número del bote salvavidas, esto implica que el pasajero sobrevivió, por lo tanto, la variable \"survived\" ya se conocería de manera implícita."
   ]
  },
  {
   "cell_type": "code",
   "execution_count": 3,
   "id": "4185d422",
   "metadata": {},
   "outputs": [],
   "source": [
    "columnas_a_usar = [\n",
    "    \"pclass\",\n",
    "    \"survived\",\n",
    "    \"name\",\n",
    "    \"sex\",\n",
    "    \"age\",\n",
    "    \"sibsp\",\n",
    "    \"parch\",\n",
    "    \"ticket\",\n",
    "    \"fare\",\n",
    "    \"cabin\",\n",
    "    \"embarked\",\n",
    "    \"home.dest\",\n",
    "]"
   ]
  },
  {
   "cell_type": "code",
   "execution_count": 4,
   "id": "4f1d3972",
   "metadata": {},
   "outputs": [
    {
     "name": "stdout",
     "output_type": "stream",
     "text": [
      "<class 'pandas.core.frame.DataFrame'>\n",
      "RangeIndex: 1309 entries, 0 to 1308\n",
      "Data columns (total 12 columns):\n",
      " #   Column     Non-Null Count  Dtype \n",
      "---  ------     --------------  ----- \n",
      " 0   pclass     1309 non-null   int64 \n",
      " 1   survived   1309 non-null   int64 \n",
      " 2   name       1309 non-null   object\n",
      " 3   sex        1309 non-null   object\n",
      " 4   age        1309 non-null   object\n",
      " 5   sibsp      1309 non-null   int64 \n",
      " 6   parch      1309 non-null   int64 \n",
      " 7   ticket     1309 non-null   object\n",
      " 8   fare       1309 non-null   object\n",
      " 9   cabin      1309 non-null   object\n",
      " 10  embarked   1309 non-null   object\n",
      " 11  home.dest  1309 non-null   object\n",
      "dtypes: int64(4), object(8)\n",
      "memory usage: 122.8+ KB\n"
     ]
    }
   ],
   "source": [
    "# Para tenerlos en formato csv\n",
    "datos_titanic_final = pd.read_csv(url_datos, usecols=columnas_a_usar, low_memory=False)\n",
    "\n",
    "# Verificamos que se hayan cargado las columnas que queríamos\n",
    "datos_titanic_final.info()"
   ]
  },
  {
   "cell_type": "code",
   "execution_count": 5,
   "id": "67c51560",
   "metadata": {},
   "outputs": [],
   "source": [
    "# Obtener la ruta del notebook actual\n",
    "ruta_datos_crudos = Path.cwd().resolve().parent / \"datos\"\n",
    "\n",
    "ruta_archivo = ruta_datos_crudos / \"01_datos_crudos_titanic.parquet\"\n",
    "\n",
    "# Crear directorio si no existe\n",
    "ruta_datos_crudos.mkdir(parents=True, exist_ok=True)\n",
    "\n",
    "# Guardar el DataFrame en el archivo parquet\n",
    "datos_titanic_final.to_parquet(ruta_archivo, index=False)"
   ]
  }
 ],
 "metadata": {
  "kernelspec": {
   "display_name": "data-projects-lab",
   "language": "python",
   "name": "python3"
  },
  "language_info": {
   "codemirror_mode": {
    "name": "ipython",
    "version": 3
   },
   "file_extension": ".py",
   "mimetype": "text/x-python",
   "name": "python",
   "nbconvert_exporter": "python",
   "pygments_lexer": "ipython3",
   "version": "3.12.7"
  }
 },
 "nbformat": 4,
 "nbformat_minor": 5
}
