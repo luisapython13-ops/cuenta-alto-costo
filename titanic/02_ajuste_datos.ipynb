{
 "cells": [
  {
   "cell_type": "code",
   "execution_count": 1,
   "id": "ed9d2fb0",
   "metadata": {},
   "outputs": [],
   "source": [
    "from pathlib import Path\n",
    "\n",
    "import numpy as np\n",
    "import pandas as pd\n",
    "import pyarrow as pa"
   ]
  },
  {
   "cell_type": "code",
   "execution_count": 2,
   "id": "129dd0f9",
   "metadata": {},
   "outputs": [
    {
     "data": {
      "text/plain": [
       "PosixPath('/Users/david.palacio/Documents/academia/data-projects-lab/projects/datos')"
      ]
     },
     "execution_count": 2,
     "metadata": {},
     "output_type": "execute_result"
    }
   ],
   "source": [
    "# Es importante garantizar que los datos estén en el directorio correcto\n",
    "\n",
    "DATA_DIR = Path.cwd().resolve().parent / \"datos\"\n",
    "DATA_DIR"
   ]
  },
  {
   "cell_type": "code",
   "execution_count": 3,
   "id": "52d5081b",
   "metadata": {},
   "outputs": [],
   "source": [
    "datos_titanic = pd.read_parquet(DATA_DIR / \"01_datos_crudos_titanic.parquet\")"
   ]
  },
  {
   "cell_type": "code",
   "execution_count": 4,
   "id": "07448237",
   "metadata": {},
   "outputs": [
    {
     "data": {
      "text/html": [
       "<div>\n",
       "<style scoped>\n",
       "    .dataframe tbody tr th:only-of-type {\n",
       "        vertical-align: middle;\n",
       "    }\n",
       "\n",
       "    .dataframe tbody tr th {\n",
       "        vertical-align: top;\n",
       "    }\n",
       "\n",
       "    .dataframe thead th {\n",
       "        text-align: right;\n",
       "    }\n",
       "</style>\n",
       "<table border=\"1\" class=\"dataframe\">\n",
       "  <thead>\n",
       "    <tr style=\"text-align: right;\">\n",
       "      <th></th>\n",
       "      <th>pclass</th>\n",
       "      <th>survived</th>\n",
       "      <th>name</th>\n",
       "      <th>sex</th>\n",
       "      <th>age</th>\n",
       "      <th>sibsp</th>\n",
       "      <th>parch</th>\n",
       "      <th>ticket</th>\n",
       "      <th>fare</th>\n",
       "      <th>cabin</th>\n",
       "      <th>embarked</th>\n",
       "      <th>home.dest</th>\n",
       "    </tr>\n",
       "  </thead>\n",
       "  <tbody>\n",
       "    <tr>\n",
       "      <th>173</th>\n",
       "      <td>1</td>\n",
       "      <td>0</td>\n",
       "      <td>Keeping, Mr. Edwin</td>\n",
       "      <td>male</td>\n",
       "      <td>32.5</td>\n",
       "      <td>0</td>\n",
       "      <td>0</td>\n",
       "      <td>113503</td>\n",
       "      <td>211.5</td>\n",
       "      <td>C132</td>\n",
       "      <td>C</td>\n",
       "      <td>?</td>\n",
       "    </tr>\n",
       "    <tr>\n",
       "      <th>843</th>\n",
       "      <td>3</td>\n",
       "      <td>0</td>\n",
       "      <td>Hagland, Mr. Konrad Mathias Reiersen</td>\n",
       "      <td>male</td>\n",
       "      <td>?</td>\n",
       "      <td>1</td>\n",
       "      <td>0</td>\n",
       "      <td>65304</td>\n",
       "      <td>19.9667</td>\n",
       "      <td>?</td>\n",
       "      <td>S</td>\n",
       "      <td>?</td>\n",
       "    </tr>\n",
       "  </tbody>\n",
       "</table>\n",
       "</div>"
      ],
      "text/plain": [
       "     pclass  survived                                  name   sex   age  \\\n",
       "173       1         0                    Keeping, Mr. Edwin  male  32.5   \n",
       "843       3         0  Hagland, Mr. Konrad Mathias Reiersen  male     ?   \n",
       "\n",
       "     sibsp  parch  ticket     fare cabin embarked home.dest  \n",
       "173      0      0  113503    211.5  C132        C         ?  \n",
       "843      1      0   65304  19.9667     ?        S         ?  "
      ]
     },
     "execution_count": 4,
     "metadata": {},
     "output_type": "execute_result"
    }
   ],
   "source": [
    "# El primer argumento de la función \"sample\" es el número de filas que se desean seleccionar\n",
    "# El segundo argumento es la semilla para el generador de números aleatorios (para hacer constantes los experimentos)\n",
    "datos_titanic.sample(2, random_state=100)"
   ]
  },
  {
   "cell_type": "code",
   "execution_count": 5,
   "id": "4ada2b40",
   "metadata": {},
   "outputs": [
    {
     "name": "stdout",
     "output_type": "stream",
     "text": [
      "<class 'pandas.core.frame.DataFrame'>\n",
      "RangeIndex: 1309 entries, 0 to 1308\n",
      "Data columns (total 12 columns):\n",
      " #   Column     Non-Null Count  Dtype \n",
      "---  ------     --------------  ----- \n",
      " 0   pclass     1309 non-null   int64 \n",
      " 1   survived   1309 non-null   int64 \n",
      " 2   name       1309 non-null   object\n",
      " 3   sex        1309 non-null   object\n",
      " 4   age        1046 non-null   object\n",
      " 5   sibsp      1309 non-null   int64 \n",
      " 6   parch      1309 non-null   int64 \n",
      " 7   ticket     1309 non-null   object\n",
      " 8   fare       1308 non-null   object\n",
      " 9   cabin      295 non-null    object\n",
      " 10  embarked   1307 non-null   object\n",
      " 11  home.dest  745 non-null    object\n",
      "dtypes: int64(4), object(8)\n",
      "memory usage: 122.8+ KB\n"
     ]
    }
   ],
   "source": [
    "# Para reemplazar valores nulos se puede usar el método \"replace\"\n",
    "\n",
    "datos_titanic = datos_titanic.replace(\"?\", np.nan)\n",
    "\n",
    "datos_titanic.info()"
   ]
  },
  {
   "cell_type": "markdown",
   "id": "bc27f12c",
   "metadata": {},
   "source": [
    "Nótese que después de reemplazar los `?` con `nan` se tienen varios datos nulos en las variables:\n",
    "\n",
    "* `age`\n",
    "* `fare`\n",
    "* `cabin`\n",
    "* `embarked`\n",
    "* `home.dest`"
   ]
  },
  {
   "cell_type": "markdown",
   "id": "3e307075",
   "metadata": {},
   "source": [
    "# Eliminación de columnas"
   ]
  },
  {
   "cell_type": "markdown",
   "id": "fded88f9",
   "metadata": {},
   "source": [
    "* Aquellas columnas que tienen \"muchos\" valores nulos, es preferible removerlas para evitar introducir sesgos en los datos.\n",
    "* La columa `ticket` es un identificador único por pasajero. Realmente no es muy valiosa a la hora de obtener información."
   ]
  },
  {
   "cell_type": "markdown",
   "id": "a431b1c8",
   "metadata": {},
   "source": [
    "Para este caso de estudio, se eliminarán:\n",
    "* `cabin`\n",
    "* `ticket`\n",
    "* `home.dest`"
   ]
  },
  {
   "cell_type": "code",
   "execution_count": 6,
   "id": "acfac2b7",
   "metadata": {},
   "outputs": [
    {
     "name": "stdout",
     "output_type": "stream",
     "text": [
      "<class 'pandas.core.frame.DataFrame'>\n",
      "RangeIndex: 1309 entries, 0 to 1308\n",
      "Data columns (total 9 columns):\n",
      " #   Column    Non-Null Count  Dtype \n",
      "---  ------    --------------  ----- \n",
      " 0   pclass    1309 non-null   int64 \n",
      " 1   survived  1309 non-null   int64 \n",
      " 2   name      1309 non-null   object\n",
      " 3   sex       1309 non-null   object\n",
      " 4   age       1046 non-null   object\n",
      " 5   sibsp     1309 non-null   int64 \n",
      " 6   parch     1309 non-null   int64 \n",
      " 7   fare      1308 non-null   object\n",
      " 8   embarked  1307 non-null   object\n",
      "dtypes: int64(4), object(5)\n",
      "memory usage: 92.2+ KB\n"
     ]
    }
   ],
   "source": [
    "datos_titanic = datos_titanic.drop(columns=['cabin', 'home.dest', 'ticket'])\n",
    "\n",
    "datos_titanic.info()"
   ]
  },
  {
   "cell_type": "markdown",
   "id": "9bf32a8e",
   "metadata": {},
   "source": [
    "# Variables Categóricas"
   ]
  },
  {
   "cell_type": "markdown",
   "id": "07c6360b",
   "metadata": {},
   "source": [
    "## Ordinal"
   ]
  },
  {
   "cell_type": "markdown",
   "id": "ea6f27c6",
   "metadata": {},
   "source": [
    "La variable categórica ordinal que se tiene en este conjunto de datos corresponde a `pclass`.\n",
    "\n",
    "* `pclass`: una clasificación aproximada del estrato socio-económico de los pasajeros.\n",
    "    * 1 = Upper\n",
    "    * 2 = Middle\n",
    "    * 3 = Lower"
   ]
  },
  {
   "cell_type": "markdown",
   "id": "1d94d86a",
   "metadata": {},
   "source": [
    "## Nominal"
   ]
  },
  {
   "cell_type": "markdown",
   "id": "5ae81714",
   "metadata": {},
   "source": [
    "Las variables categóricas nominales que se tienen corresponden a `sex` y `embarked`.\n",
    "\n",
    "* `sex`: género del pasajer@\n",
    "    * female\n",
    "    * male\n",
    "\n",
    "* `embarked`: puerto de embarcación\n",
    "    * C = Cherbourg\n",
    "    * Q = Queenstown\n",
    "    * S = Southampton"
   ]
  },
  {
   "cell_type": "markdown",
   "id": "5ebaec30",
   "metadata": {},
   "source": [
    "# Variables Numéricas"
   ]
  },
  {
   "cell_type": "markdown",
   "id": "32e23233",
   "metadata": {},
   "source": [
    "## Discretas"
   ]
  },
  {
   "cell_type": "markdown",
   "id": "a505f1f2",
   "metadata": {},
   "source": [
    "* `sibsp`: Este conjunto de datos tiene relaciones de familia.\n",
    "    * Sibling = brother, sister, stepbrother, stepsister\n",
    "    * Spouse = husband, wife (mistresses and fiancés were ignored)\n",
    "    * `sibsp` = 0, 1, 2, 3, 4, 5, 8\n",
    "\n",
    "* `parch`: The dataset defines family relations in this way…\n",
    "    * Parent = mother, father\n",
    "    * Child = daughter, son, stepdaughter, stepson\n",
    "    * Some children travelled only with a nanny, therefore parch = 0 for them.\n",
    "    * `parch` = 0, 1, 2, 3, 4, 5, 6"
   ]
  },
  {
   "cell_type": "markdown",
   "id": "01fba0df",
   "metadata": {},
   "source": [
    "## Continuas"
   ]
  },
  {
   "cell_type": "markdown",
   "id": "c220db5b",
   "metadata": {},
   "source": [
    "* `fare`: Tarifa del pasajero\n",
    "* `age`: Edad del pasajero. Algunos valores están como decimales, por lo que se convertirán a enteros."
   ]
  },
  {
   "cell_type": "markdown",
   "id": "e160a571",
   "metadata": {},
   "source": [
    "## Variables Booleanas"
   ]
  },
  {
   "cell_type": "markdown",
   "id": "3f66ee08",
   "metadata": {},
   "source": [
    "* `Survived`: 0 = No, 1 = Yes"
   ]
  },
  {
   "cell_type": "markdown",
   "id": "61e97caa",
   "metadata": {},
   "source": [
    "## Variables Tipo String"
   ]
  },
  {
   "cell_type": "markdown",
   "id": "2877db23",
   "metadata": {},
   "source": [
    "* `name`: nombre del pasajero con el formato *apellido, titulo. Nombre*"
   ]
  },
  {
   "cell_type": "markdown",
   "id": "be17ed91",
   "metadata": {},
   "source": [
    "# Conversión de datos"
   ]
  },
  {
   "cell_type": "markdown",
   "id": "3eea5a32",
   "metadata": {},
   "source": [
    "## Variables categóricas"
   ]
  },
  {
   "cell_type": "code",
   "execution_count": 7,
   "id": "77d3fb07",
   "metadata": {},
   "outputs": [],
   "source": [
    "cols_categoricas = ['pclass', 'sex', 'embarked']\n",
    "\n",
    "datos_titanic[cols_categoricas] = datos_titanic[cols_categoricas].astype(\"category\")\n",
    "\n",
    "datos_titanic[\"pclass\"] = pd.Categorical(\n",
    "    datos_titanic[\"pclass\"], categories=[3, 2, 1], ordered = True\n",
    ")"
   ]
  },
  {
   "cell_type": "markdown",
   "id": "3cbb83cb",
   "metadata": {},
   "source": [
    "## Variables numéricas"
   ]
  },
  {
   "cell_type": "code",
   "execution_count": 8,
   "id": "a1bc1ba8",
   "metadata": {},
   "outputs": [],
   "source": [
    "cols_numericas_flotantes = ['age', 'fare']\n",
    "\n",
    "datos_titanic[cols_numericas_flotantes] = datos_titanic[cols_numericas_flotantes].astype(\"float64\")"
   ]
  },
  {
   "cell_type": "code",
   "execution_count": 9,
   "id": "df91ff8b",
   "metadata": {},
   "outputs": [],
   "source": [
    "cols_numericas_enteros = [\"sibsp\", \"parch\"]\n",
    "\n",
    "datos_titanic[cols_numericas_enteros] = datos_titanic[cols_numericas_enteros].astype(\"int8\")"
   ]
  },
  {
   "cell_type": "markdown",
   "id": "610d471c",
   "metadata": {},
   "source": [
    "## Variables booleanas"
   ]
  },
  {
   "cell_type": "code",
   "execution_count": 10,
   "id": "541a3af8",
   "metadata": {},
   "outputs": [],
   "source": [
    "cols_booleanas = [\"survived\"]\n",
    "\n",
    "datos_titanic[cols_booleanas] = datos_titanic[cols_booleanas].astype(\"bool\")"
   ]
  },
  {
   "cell_type": "markdown",
   "id": "4adc8077",
   "metadata": {},
   "source": [
    "# Verificación final"
   ]
  },
  {
   "cell_type": "code",
   "execution_count": 11,
   "id": "5be65331",
   "metadata": {},
   "outputs": [
    {
     "name": "stdout",
     "output_type": "stream",
     "text": [
      "<class 'pandas.core.frame.DataFrame'>\n",
      "RangeIndex: 1309 entries, 0 to 1308\n",
      "Data columns (total 9 columns):\n",
      " #   Column    Non-Null Count  Dtype   \n",
      "---  ------    --------------  -----   \n",
      " 0   pclass    1309 non-null   category\n",
      " 1   survived  1309 non-null   bool    \n",
      " 2   name      1309 non-null   object  \n",
      " 3   sex       1309 non-null   category\n",
      " 4   age       1046 non-null   float64 \n",
      " 5   sibsp     1309 non-null   int8    \n",
      " 6   parch     1309 non-null   int8    \n",
      " 7   fare      1308 non-null   float64 \n",
      " 8   embarked  1307 non-null   category\n",
      "dtypes: bool(1), category(3), float64(2), int8(2), object(1)\n",
      "memory usage: 38.9+ KB\n"
     ]
    }
   ],
   "source": [
    "datos_titanic.info()"
   ]
  },
  {
   "cell_type": "code",
   "execution_count": 12,
   "id": "3c6351f3",
   "metadata": {},
   "outputs": [],
   "source": [
    "# Convierte un DataFrame de pandas en una tabla de PyArrow\n",
    "# PyArrow es más eficiente en memoria que Pandas.\n",
    "\n",
    "schema = pa.Table.from_pandas(datos_titanic).schema"
   ]
  },
  {
   "cell_type": "markdown",
   "id": "c00846ad",
   "metadata": {},
   "source": [
    "# Guardar datos en formato `parquet`"
   ]
  },
  {
   "cell_type": "code",
   "execution_count": 13,
   "id": "7955ea41",
   "metadata": {},
   "outputs": [],
   "source": [
    "# Obtener la ruta del notebook actual\n",
    "ruta_datos_crudos = Path.cwd().resolve().parent / \"datos\"\n",
    "\n",
    "ruta_archivo = ruta_datos_crudos / \"02_datos_con_tipo_de_dato_ajustado_titanic.parquet\"\n",
    "\n",
    "# Crear directorio si no existe\n",
    "ruta_datos_crudos.mkdir(parents=True, exist_ok=True)\n",
    "\n",
    "# Guardar el DataFrame en el archivo parquet\n",
    "\n",
    "# En este caso especificamos el esquema de datos. Útil para tener control total sobre los tipos de datos.\n",
    "datos_titanic.to_parquet(ruta_archivo, index=False, schema=schema)"
   ]
  }
 ],
 "metadata": {
  "kernelspec": {
   "display_name": "data-projects-lab",
   "language": "python",
   "name": "python3"
  },
  "language_info": {
   "codemirror_mode": {
    "name": "ipython",
    "version": 3
   },
   "file_extension": ".py",
   "mimetype": "text/x-python",
   "name": "python",
   "nbconvert_exporter": "python",
   "pygments_lexer": "ipython3",
   "version": "3.12.7"
  }
 },
 "nbformat": 4,
 "nbformat_minor": 5
}
