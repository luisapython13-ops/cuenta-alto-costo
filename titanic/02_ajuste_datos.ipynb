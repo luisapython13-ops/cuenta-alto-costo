{
 "cells": [
  {
   "cell_type": "code",
   "execution_count": 1,
   "id": "ed9d2fb0",
   "metadata": {},
   "outputs": [],
   "source": [
    "from pathlib import Path\n",
    "\n",
    "import numpy as np\n",
    "import pandas as pd\n",
    "import pyarrow as pa"
   ]
  },
  {
   "cell_type": "code",
   "execution_count": 9,
   "id": "129dd0f9",
   "metadata": {},
   "outputs": [
    {
     "data": {
      "text/plain": [
       "WindowsPath('C:/Users/juans/Documents/GitHub/cuenta-alto-costo/datos')"
      ]
     },
     "execution_count": 9,
     "metadata": {},
     "output_type": "execute_result"
    }
   ],
   "source": [
    "# Es importante garantizar que los datos estén en el directorio correcto\n",
    "\n",
    "DATA_DIR = Path.cwd().resolve().parent / \"datos\"\n",
    "DATA_DIR"
   ]
  },
  {
   "cell_type": "code",
   "execution_count": 12,
   "id": "8911f22d",
   "metadata": {},
   "outputs": [
    {
     "name": "stdout",
     "output_type": "stream",
     "text": [
      "   COD_DPTO    Nom Dep  COD_MUNIC  A_DEFUN  SIT_DEFUN OTRSITIODE  TIPO_DEFUN  \\\n",
      "0        17     CALDAS          1        1          1        NaN           2   \n",
      "1        19      CAUCA          1        1          3        NaN           2   \n",
      "2        73     TOLIMA        168        1          1        NaN           2   \n",
      "3        23    CÓRDOBA          1        1          1        NaN           2   \n",
      "4         8  ATLÁNTICO          1        1          1        NaN           2   \n",
      "\n",
      "    ANO  MES  HORA  ...  C_MUERTED  C_MUERTEE  ASIS_MED  \\\n",
      "0  2019   12    21  ...        NaN        NaN         1   \n",
      "1  2019   12     5  ...        1.0        NaN         2   \n",
      "2  2019   12    23  ...        NaN        NaN         1   \n",
      "3  2019   12    12  ...        NaN        NaN         1   \n",
      "4  2019   11    15  ...        NaN        NaN         1   \n",
      "\n",
      "                CAUSA_MULT  C_BAS1  \\\n",
      "0                     C712    C712   \n",
      "1                     C719    C719   \n",
      "2      I219/I139/I509/N189    N189   \n",
      "3       J80/C780 C800*J449    C800   \n",
      "4  I461/R570/I313/J90*N185    N185   \n",
      "\n",
      "                                       NOMBRE CIE-10  \\\n",
      "0                  Tumor maligno del lobulo temporal   \n",
      "1  Tumor maligno del encefalo, parte no especificada   \n",
      "2          Enfermedad renal cronica, no especificada   \n",
      "3  Tumor maligno, de sitio primario desconocido, ...   \n",
      "4                  Enfermedad renal crónica, etapa 5   \n",
      "\n",
      "                                CUENTA DE ALTO COSTO  CAUSA_667  IDPROFCER  \\\n",
      "0                  Tumor maligno del lobulo temporal        214          1   \n",
      "1  Tumor maligno del encefalo, parte no especificada        214          1   \n",
      "2       INSUFICIENCIA RENAL CRONICA, NO ESPECIFICADA        610          1   \n",
      "3  Tumor maligno de sitio primario desconocido, a...        214          1   \n",
      "4              ENFERMEDAD RENAL CRÓNICA EN ESTADIO 5        610          1   \n",
      "\n",
      "  CAU_HOMOL  \n",
      "0        31  \n",
      "1        31  \n",
      "2        74  \n",
      "3        34  \n",
      "4        74  \n",
      "\n",
      "[5 rows x 59 columns]\n"
     ]
    }
   ],
   "source": [
    "# Definir ruta base\n",
    "DATA_DIR = Path(r\"C:\\Users\\juans\\Documents\\GitHub\\cuenta-alto-costo\")\n",
    "\n",
    "# Opción 1: Leer archivo Parquet (si existe)\n",
    "# datos_CAC = pd.read_parquet(DATA_DIR / \"cuenta_alto_costo.parquet\")\n",
    "\n",
    "# Opción 2: Leer la hoja \"BD FINAL\" del Excel\n",
    "datos_CAC = pd.read_excel(DATA_DIR / \"Mortalidad 2019 colombia1.xlsx\", sheet_name=\"BD FINAL\")\n",
    "\n",
    "# Ver las primeras filas\n",
    "print(datos_CAC.head())"
   ]
  },
  {
   "cell_type": "code",
   "execution_count": 13,
   "id": "07448237",
   "metadata": {},
   "outputs": [
    {
     "data": {
      "text/html": [
       "<div>\n",
       "<style scoped>\n",
       "    .dataframe tbody tr th:only-of-type {\n",
       "        vertical-align: middle;\n",
       "    }\n",
       "\n",
       "    .dataframe tbody tr th {\n",
       "        vertical-align: top;\n",
       "    }\n",
       "\n",
       "    .dataframe thead th {\n",
       "        text-align: right;\n",
       "    }\n",
       "</style>\n",
       "<table border=\"1\" class=\"dataframe\">\n",
       "  <thead>\n",
       "    <tr style=\"text-align: right;\">\n",
       "      <th></th>\n",
       "      <th>COD_DPTO</th>\n",
       "      <th>Nom Dep</th>\n",
       "      <th>COD_MUNIC</th>\n",
       "      <th>A_DEFUN</th>\n",
       "      <th>SIT_DEFUN</th>\n",
       "      <th>OTRSITIODE</th>\n",
       "      <th>TIPO_DEFUN</th>\n",
       "      <th>ANO</th>\n",
       "      <th>MES</th>\n",
       "      <th>HORA</th>\n",
       "      <th>...</th>\n",
       "      <th>C_MUERTED</th>\n",
       "      <th>C_MUERTEE</th>\n",
       "      <th>ASIS_MED</th>\n",
       "      <th>CAUSA_MULT</th>\n",
       "      <th>C_BAS1</th>\n",
       "      <th>NOMBRE CIE-10</th>\n",
       "      <th>CUENTA DE ALTO COSTO</th>\n",
       "      <th>CAUSA_667</th>\n",
       "      <th>IDPROFCER</th>\n",
       "      <th>CAU_HOMOL</th>\n",
       "    </tr>\n",
       "  </thead>\n",
       "  <tbody>\n",
       "    <tr>\n",
       "      <th>11110</th>\n",
       "      <td>76</td>\n",
       "      <td>VALLE DEL CAUCA</td>\n",
       "      <td>1</td>\n",
       "      <td>1</td>\n",
       "      <td>1</td>\n",
       "      <td>NaN</td>\n",
       "      <td>2</td>\n",
       "      <td>2019</td>\n",
       "      <td>8</td>\n",
       "      <td>18</td>\n",
       "      <td>...</td>\n",
       "      <td>NaN</td>\n",
       "      <td>NaN</td>\n",
       "      <td>1</td>\n",
       "      <td>J969/E43/C349</td>\n",
       "      <td>C349</td>\n",
       "      <td>Tumor maligno de los bronquios o del pulmon, p...</td>\n",
       "      <td>Tumor maligno de los bronquios o del pulmon, p...</td>\n",
       "      <td>204</td>\n",
       "      <td>1</td>\n",
       "      <td>20</td>\n",
       "    </tr>\n",
       "    <tr>\n",
       "      <th>13867</th>\n",
       "      <td>5</td>\n",
       "      <td>ANTIOQUIA</td>\n",
       "      <td>1</td>\n",
       "      <td>1</td>\n",
       "      <td>1</td>\n",
       "      <td>NaN</td>\n",
       "      <td>2</td>\n",
       "      <td>2019</td>\n",
       "      <td>9</td>\n",
       "      <td>18</td>\n",
       "      <td>...</td>\n",
       "      <td>NaN</td>\n",
       "      <td>NaN</td>\n",
       "      <td>1</td>\n",
       "      <td>J960/C780/C809*C951</td>\n",
       "      <td>C951</td>\n",
       "      <td>Leucemia cronica, celulas de tipo no especificado</td>\n",
       "      <td>Leucemia cronica, celulas de tipo no especificado</td>\n",
       "      <td>212</td>\n",
       "      <td>1</td>\n",
       "      <td>35</td>\n",
       "    </tr>\n",
       "  </tbody>\n",
       "</table>\n",
       "<p>2 rows × 59 columns</p>\n",
       "</div>"
      ],
      "text/plain": [
       "       COD_DPTO          Nom Dep  COD_MUNIC  A_DEFUN  SIT_DEFUN OTRSITIODE  \\\n",
       "11110        76  VALLE DEL CAUCA          1        1          1        NaN   \n",
       "13867         5        ANTIOQUIA          1        1          1        NaN   \n",
       "\n",
       "       TIPO_DEFUN   ANO  MES  HORA  ...  C_MUERTED  C_MUERTEE  ASIS_MED  \\\n",
       "11110           2  2019    8    18  ...        NaN        NaN         1   \n",
       "13867           2  2019    9    18  ...        NaN        NaN         1   \n",
       "\n",
       "                CAUSA_MULT  C_BAS1  \\\n",
       "11110        J969/E43/C349    C349   \n",
       "13867  J960/C780/C809*C951    C951   \n",
       "\n",
       "                                           NOMBRE CIE-10  \\\n",
       "11110  Tumor maligno de los bronquios o del pulmon, p...   \n",
       "13867  Leucemia cronica, celulas de tipo no especificado   \n",
       "\n",
       "                                    CUENTA DE ALTO COSTO  CAUSA_667  \\\n",
       "11110  Tumor maligno de los bronquios o del pulmon, p...        204   \n",
       "13867  Leucemia cronica, celulas de tipo no especificado        212   \n",
       "\n",
       "       IDPROFCER CAU_HOMOL  \n",
       "11110          1        20  \n",
       "13867          1        35  \n",
       "\n",
       "[2 rows x 59 columns]"
      ]
     },
     "execution_count": 13,
     "metadata": {},
     "output_type": "execute_result"
    }
   ],
   "source": [
    "# El primer argumento de la función \"sample\" es el número de filas que se desean seleccionar\n",
    "# El segundo argumento es la semilla para el generador de números aleatorios (para hacer constantes los experimentos)\n",
    "datos_CAC.sample(2, random_state=100)"
   ]
  },
  {
   "cell_type": "code",
   "execution_count": 14,
   "id": "4ada2b40",
   "metadata": {},
   "outputs": [
    {
     "name": "stdout",
     "output_type": "stream",
     "text": [
      "<class 'pandas.core.frame.DataFrame'>\n",
      "RangeIndex: 42644 entries, 0 to 42643\n",
      "Data columns (total 59 columns):\n",
      " #   Column                Non-Null Count  Dtype  \n",
      "---  ------                --------------  -----  \n",
      " 0   COD_DPTO              42644 non-null  int64  \n",
      " 1   Nom Dep               42644 non-null  object \n",
      " 2   COD_MUNIC             42644 non-null  int64  \n",
      " 3   A_DEFUN               42644 non-null  int64  \n",
      " 4   SIT_DEFUN             42644 non-null  int64  \n",
      " 5   OTRSITIODE            129 non-null    object \n",
      " 6   TIPO_DEFUN            42644 non-null  int64  \n",
      " 7   ANO                   42644 non-null  int64  \n",
      " 8   MES                   42644 non-null  int64  \n",
      " 9   HORA                  42644 non-null  int64  \n",
      " 10  MINUTOS               42644 non-null  int64  \n",
      " 11  SEXO                  42644 non-null  int64  \n",
      " 12  EST_CIVIL             42644 non-null  int64  \n",
      " 13  GRU_ED1               42644 non-null  int64  \n",
      " 14  GRU_ED2               42644 non-null  int64  \n",
      " 15  NIVEL_EDU             42644 non-null  int64  \n",
      " 16  ULTCURFAL             42644 non-null  int64  \n",
      " 17  MUERTEPORO            42479 non-null  float64\n",
      " 18  SIMUERTEPO            35 non-null     float64\n",
      " 19  OCUPACION             42333 non-null  object \n",
      " 20  IDPERTET              42644 non-null  int64  \n",
      " 21  CODPRES               42635 non-null  float64\n",
      " 22  CODPTORE              42493 non-null  float64\n",
      " 23  CODMUNRE              42493 non-null  float64\n",
      " 24  AREA_RES              42494 non-null  float64\n",
      " 25  SEG_SOCIAL            42644 non-null  int64  \n",
      " 26  IDADMISALUD           41618 non-null  float64\n",
      " 27  P_PMAN_IRIS           42644 non-null  int64  \n",
      " 28  CONS_EXP              42644 non-null  int64  \n",
      " 29  MU_PARTO              31 non-null     float64\n",
      " 30  T_PARTO               31 non-null     float64\n",
      " 31  TIPO_EMB              31 non-null     float64\n",
      " 32  T_GES                 31 non-null     float64\n",
      " 33  T_GES_AGRU_CIE        31 non-null     float64\n",
      " 34  PESO_NAC              31 non-null     float64\n",
      " 35  EDAD_MADRE            31 non-null     float64\n",
      " 36  N_HIJOSV              31 non-null     float64\n",
      " 37  N_HIJOSM              31 non-null     float64\n",
      " 38  EST_CIVM              31 non-null     float64\n",
      " 39  NIV_EDUM              31 non-null     float64\n",
      " 40  ULTCURMAD             31 non-null     float64\n",
      " 41  EMB_FAL               5138 non-null   float64\n",
      " 42  EMB_SEM               5138 non-null   float64\n",
      " 43  EMB_MES               5138 non-null   float64\n",
      " 44  CODOCUR               4 non-null      float64\n",
      " 45  CODMUNOC              4 non-null      float64\n",
      " 46  C_MUERTE              316 non-null    float64\n",
      " 47  C_MUERTEB             35882 non-null  float64\n",
      " 48  C_MUERTEC             5079 non-null   float64\n",
      " 49  C_MUERTED             13792 non-null  float64\n",
      " 50  C_MUERTEE             0 non-null      float64\n",
      " 51  ASIS_MED              42644 non-null  int64  \n",
      " 52  CAUSA_MULT            42644 non-null  object \n",
      " 53  C_BAS1                42644 non-null  object \n",
      " 54  NOMBRE CIE-10         42644 non-null  object \n",
      " 55  CUENTA DE ALTO COSTO  42644 non-null  object \n",
      " 56  CAUSA_667             42644 non-null  int64  \n",
      " 57  IDPROFCER             42644 non-null  int64  \n",
      " 58  CAU_HOMOL             42644 non-null  int64  \n",
      "dtypes: float64(29), int64(23), object(7)\n",
      "memory usage: 19.2+ MB\n"
     ]
    }
   ],
   "source": [
    "# Para reemplazar valores nulos se puede usar el método \"replace\"\n",
    "\n",
    "datos_titanic = datos_CAC.replace(\"?\", np.nan)\n",
    "\n",
    "datos_titanic.info()"
   ]
  },
  {
   "cell_type": "markdown",
   "id": "bc27f12c",
   "metadata": {},
   "source": [
    "Nótese que después de reemplazar los `?` con `nan` se tienen varios datos nulos en las variables:\n",
    "\n",
    "* `age`\n",
    "* `fare`\n",
    "* `cabin`\n",
    "* `embarked`\n",
    "* `home.dest`"
   ]
  },
  {
   "cell_type": "markdown",
   "id": "3e307075",
   "metadata": {},
   "source": [
    "# Eliminación de columnas"
   ]
  },
  {
   "cell_type": "markdown",
   "id": "fded88f9",
   "metadata": {},
   "source": [
    "* Aquellas columnas que tienen \"muchos\" valores nulos, es preferible removerlas para evitar introducir sesgos en los datos.\n",
    "* La columa `ticket` es un identificador único por pasajero. Realmente no es muy valiosa a la hora de obtener información."
   ]
  },
  {
   "cell_type": "markdown",
   "id": "a431b1c8",
   "metadata": {},
   "source": [
    "Para este caso de estudio, se eliminarán:\n",
    "* `cabin`\n",
    "* `ticket`\n",
    "* `home.dest`"
   ]
  },
  {
   "cell_type": "code",
   "execution_count": 6,
   "id": "acfac2b7",
   "metadata": {},
   "outputs": [
    {
     "name": "stdout",
     "output_type": "stream",
     "text": [
      "<class 'pandas.core.frame.DataFrame'>\n",
      "RangeIndex: 1309 entries, 0 to 1308\n",
      "Data columns (total 9 columns):\n",
      " #   Column    Non-Null Count  Dtype \n",
      "---  ------    --------------  ----- \n",
      " 0   pclass    1309 non-null   int64 \n",
      " 1   survived  1309 non-null   int64 \n",
      " 2   name      1309 non-null   object\n",
      " 3   sex       1309 non-null   object\n",
      " 4   age       1046 non-null   object\n",
      " 5   sibsp     1309 non-null   int64 \n",
      " 6   parch     1309 non-null   int64 \n",
      " 7   fare      1308 non-null   object\n",
      " 8   embarked  1307 non-null   object\n",
      "dtypes: int64(4), object(5)\n",
      "memory usage: 92.2+ KB\n"
     ]
    }
   ],
   "source": [
    "datos_titanic = datos_titanic.drop(columns=['cabin', 'home.dest', 'ticket'])\n",
    "\n",
    "datos_titanic.info()"
   ]
  },
  {
   "cell_type": "markdown",
   "id": "9bf32a8e",
   "metadata": {},
   "source": [
    "# Variables Categóricas"
   ]
  },
  {
   "cell_type": "markdown",
   "id": "07c6360b",
   "metadata": {},
   "source": [
    "## Ordinal"
   ]
  },
  {
   "cell_type": "markdown",
   "id": "ea6f27c6",
   "metadata": {},
   "source": [
    "La variable categórica ordinal que se tiene en este conjunto de datos corresponde a `pclass`.\n",
    "\n",
    "* `pclass`: una clasificación aproximada del estrato socio-económico de los pasajeros.\n",
    "    * 1 = Upper\n",
    "    * 2 = Middle\n",
    "    * 3 = Lower"
   ]
  },
  {
   "cell_type": "markdown",
   "id": "1d94d86a",
   "metadata": {},
   "source": [
    "## Nominal"
   ]
  },
  {
   "cell_type": "markdown",
   "id": "5ae81714",
   "metadata": {},
   "source": [
    "Las variables categóricas nominales que se tienen corresponden a `sex` y `embarked`.\n",
    "\n",
    "* `sex`: género del pasajer@\n",
    "    * female\n",
    "    * male\n",
    "\n",
    "* `embarked`: puerto de embarcación\n",
    "    * C = Cherbourg\n",
    "    * Q = Queenstown\n",
    "    * S = Southampton"
   ]
  },
  {
   "cell_type": "markdown",
   "id": "5ebaec30",
   "metadata": {},
   "source": [
    "# Variables Numéricas"
   ]
  },
  {
   "cell_type": "markdown",
   "id": "32e23233",
   "metadata": {},
   "source": [
    "## Discretas"
   ]
  },
  {
   "cell_type": "markdown",
   "id": "a505f1f2",
   "metadata": {},
   "source": [
    "* `sibsp`: Este conjunto de datos tiene relaciones de familia.\n",
    "    * Sibling = brother, sister, stepbrother, stepsister\n",
    "    * Spouse = husband, wife (mistresses and fiancés were ignored)\n",
    "    * `sibsp` = 0, 1, 2, 3, 4, 5, 8\n",
    "\n",
    "* `parch`: The dataset defines family relations in this way…\n",
    "    * Parent = mother, father\n",
    "    * Child = daughter, son, stepdaughter, stepson\n",
    "    * Some children travelled only with a nanny, therefore parch = 0 for them.\n",
    "    * `parch` = 0, 1, 2, 3, 4, 5, 6"
   ]
  },
  {
   "cell_type": "markdown",
   "id": "01fba0df",
   "metadata": {},
   "source": [
    "## Continuas"
   ]
  },
  {
   "cell_type": "markdown",
   "id": "c220db5b",
   "metadata": {},
   "source": [
    "* `fare`: Tarifa del pasajero\n",
    "* `age`: Edad del pasajero. Algunos valores están como decimales, por lo que se convertirán a enteros."
   ]
  },
  {
   "cell_type": "markdown",
   "id": "e160a571",
   "metadata": {},
   "source": [
    "## Variables Booleanas"
   ]
  },
  {
   "cell_type": "markdown",
   "id": "3f66ee08",
   "metadata": {},
   "source": [
    "* `Survived`: 0 = No, 1 = Yes"
   ]
  },
  {
   "cell_type": "markdown",
   "id": "61e97caa",
   "metadata": {},
   "source": [
    "## Variables Tipo String"
   ]
  },
  {
   "cell_type": "markdown",
   "id": "2877db23",
   "metadata": {},
   "source": [
    "* `name`: nombre del pasajero con el formato *apellido, titulo. Nombre*"
   ]
  },
  {
   "cell_type": "markdown",
   "id": "be17ed91",
   "metadata": {},
   "source": [
    "# Conversión de datos"
   ]
  },
  {
   "cell_type": "markdown",
   "id": "3eea5a32",
   "metadata": {},
   "source": [
    "## Variables categóricas"
   ]
  },
  {
   "cell_type": "code",
   "execution_count": 7,
   "id": "77d3fb07",
   "metadata": {},
   "outputs": [],
   "source": [
    "cols_categoricas = ['pclass', 'sex', 'embarked']\n",
    "\n",
    "datos_titanic[cols_categoricas] = datos_titanic[cols_categoricas].astype(\"category\")\n",
    "\n",
    "datos_titanic[\"pclass\"] = pd.Categorical(\n",
    "    datos_titanic[\"pclass\"], categories=[3, 2, 1], ordered = True\n",
    ")"
   ]
  },
  {
   "cell_type": "markdown",
   "id": "3cbb83cb",
   "metadata": {},
   "source": [
    "## Variables numéricas"
   ]
  },
  {
   "cell_type": "code",
   "execution_count": 8,
   "id": "a1bc1ba8",
   "metadata": {},
   "outputs": [],
   "source": [
    "cols_numericas_flotantes = ['age', 'fare']\n",
    "\n",
    "datos_titanic[cols_numericas_flotantes] = datos_titanic[cols_numericas_flotantes].astype(\"float64\")"
   ]
  },
  {
   "cell_type": "code",
   "execution_count": 9,
   "id": "df91ff8b",
   "metadata": {},
   "outputs": [],
   "source": [
    "cols_numericas_enteros = [\"sibsp\", \"parch\"]\n",
    "\n",
    "datos_titanic[cols_numericas_enteros] = datos_titanic[cols_numericas_enteros].astype(\"int8\")"
   ]
  },
  {
   "cell_type": "markdown",
   "id": "610d471c",
   "metadata": {},
   "source": [
    "## Variables booleanas"
   ]
  },
  {
   "cell_type": "code",
   "execution_count": 10,
   "id": "541a3af8",
   "metadata": {},
   "outputs": [],
   "source": [
    "cols_booleanas = [\"survived\"]\n",
    "\n",
    "datos_titanic[cols_booleanas] = datos_titanic[cols_booleanas].astype(\"bool\")"
   ]
  },
  {
   "cell_type": "markdown",
   "id": "4adc8077",
   "metadata": {},
   "source": [
    "# Verificación final"
   ]
  },
  {
   "cell_type": "code",
   "execution_count": 11,
   "id": "5be65331",
   "metadata": {},
   "outputs": [
    {
     "name": "stdout",
     "output_type": "stream",
     "text": [
      "<class 'pandas.core.frame.DataFrame'>\n",
      "RangeIndex: 1309 entries, 0 to 1308\n",
      "Data columns (total 9 columns):\n",
      " #   Column    Non-Null Count  Dtype   \n",
      "---  ------    --------------  -----   \n",
      " 0   pclass    1309 non-null   category\n",
      " 1   survived  1309 non-null   bool    \n",
      " 2   name      1309 non-null   object  \n",
      " 3   sex       1309 non-null   category\n",
      " 4   age       1046 non-null   float64 \n",
      " 5   sibsp     1309 non-null   int8    \n",
      " 6   parch     1309 non-null   int8    \n",
      " 7   fare      1308 non-null   float64 \n",
      " 8   embarked  1307 non-null   category\n",
      "dtypes: bool(1), category(3), float64(2), int8(2), object(1)\n",
      "memory usage: 38.9+ KB\n"
     ]
    }
   ],
   "source": [
    "datos_titanic.info()"
   ]
  },
  {
   "cell_type": "code",
   "execution_count": 12,
   "id": "3c6351f3",
   "metadata": {},
   "outputs": [],
   "source": [
    "# Convierte un DataFrame de pandas en una tabla de PyArrow\n",
    "# PyArrow es más eficiente en memoria que Pandas.\n",
    "\n",
    "schema = pa.Table.from_pandas(datos_titanic).schema"
   ]
  },
  {
   "cell_type": "markdown",
   "id": "c00846ad",
   "metadata": {},
   "source": [
    "# Guardar datos en formato `parquet`"
   ]
  },
  {
   "cell_type": "code",
   "execution_count": 13,
   "id": "7955ea41",
   "metadata": {},
   "outputs": [],
   "source": [
    "# Obtener la ruta del notebook actual\n",
    "ruta_datos_crudos = Path.cwd().resolve().parent / \"datos\"\n",
    "\n",
    "ruta_archivo = ruta_datos_crudos / \"02_datos_con_tipo_de_dato_ajustado_titanic.parquet\"\n",
    "\n",
    "# Crear directorio si no existe\n",
    "ruta_datos_crudos.mkdir(parents=True, exist_ok=True)\n",
    "\n",
    "# Guardar el DataFrame en el archivo parquet\n",
    "\n",
    "# En este caso especificamos el esquema de datos. Útil para tener control total sobre los tipos de datos.\n",
    "datos_titanic.to_parquet(ruta_archivo, index=False, schema=schema)"
   ]
  }
 ],
 "metadata": {
  "kernelspec": {
   "display_name": "base",
   "language": "python",
   "name": "python3"
  },
  "language_info": {
   "codemirror_mode": {
    "name": "ipython",
    "version": 3
   },
   "file_extension": ".py",
   "mimetype": "text/x-python",
   "name": "python",
   "nbconvert_exporter": "python",
   "pygments_lexer": "ipython3",
   "version": "3.13.5"
  }
 },
 "nbformat": 4,
 "nbformat_minor": 5
}
