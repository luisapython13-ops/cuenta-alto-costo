{
 "cells": [
  {
   "cell_type": "code",
   "execution_count": 12,
   "id": "5f76d465",
   "metadata": {},
   "outputs": [],
   "source": [
    "# Librerías base\n",
    "\n",
    "from pathlib import Path\n",
    "import pandas as pd"
   ]
  },
  {
   "cell_type": "code",
   "execution_count": 13,
   "id": "efd47ecd",
   "metadata": {},
   "outputs": [
    {
     "name": "stdout",
     "output_type": "stream",
     "text": [
      "Ruta actual: c:\\Users\\juans\\Documents\\GitHub\\cuenta-alto-costo\\Reference files\n",
      "Hojas disponibles: ['COSTOSAS', 'BD FINAL']\n",
      "<class 'pandas.core.frame.DataFrame'>\n",
      "RangeIndex: 42644 entries, 0 to 42643\n",
      "Data columns (total 59 columns):\n",
      " #   Column                Non-Null Count  Dtype  \n",
      "---  ------                --------------  -----  \n",
      " 0   COD_DPTO              42644 non-null  int64  \n",
      " 1   Nom Dep               42644 non-null  object \n",
      " 2   COD_MUNIC             42644 non-null  int64  \n",
      " 3   A_DEFUN               42644 non-null  int64  \n",
      " 4   SIT_DEFUN             42644 non-null  int64  \n",
      " 5   OTRSITIODE            129 non-null    object \n",
      " 6   TIPO_DEFUN            42644 non-null  int64  \n",
      " 7   ANO                   42644 non-null  int64  \n",
      " 8   MES                   42644 non-null  int64  \n",
      " 9   HORA                  42644 non-null  int64  \n",
      " 10  MINUTOS               42644 non-null  int64  \n",
      " 11  SEXO                  42644 non-null  int64  \n",
      " 12  EST_CIVIL             42644 non-null  int64  \n",
      " 13  GRU_ED1               42644 non-null  int64  \n",
      " 14  GRU_ED2               42644 non-null  int64  \n",
      " 15  NIVEL_EDU             42644 non-null  int64  \n",
      " 16  ULTCURFAL             42644 non-null  int64  \n",
      " 17  MUERTEPORO            42479 non-null  float64\n",
      " 18  SIMUERTEPO            35 non-null     float64\n",
      " 19  OCUPACION             42333 non-null  object \n",
      " 20  IDPERTET              42644 non-null  int64  \n",
      " 21  CODPRES               42635 non-null  float64\n",
      " 22  CODPTORE              42493 non-null  float64\n",
      " 23  CODMUNRE              42493 non-null  float64\n",
      " 24  AREA_RES              42494 non-null  float64\n",
      " 25  SEG_SOCIAL            42644 non-null  int64  \n",
      " 26  IDADMISALUD           41618 non-null  float64\n",
      " 27  P_PMAN_IRIS           42644 non-null  int64  \n",
      " 28  CONS_EXP              42644 non-null  int64  \n",
      " 29  MU_PARTO              31 non-null     float64\n",
      " 30  T_PARTO               31 non-null     float64\n",
      " 31  TIPO_EMB              31 non-null     float64\n",
      " 32  T_GES                 31 non-null     float64\n",
      " 33  T_GES_AGRU_CIE        31 non-null     float64\n",
      " 34  PESO_NAC              31 non-null     float64\n",
      " 35  EDAD_MADRE            31 non-null     float64\n",
      " 36  N_HIJOSV              31 non-null     float64\n",
      " 37  N_HIJOSM              31 non-null     float64\n",
      " 38  EST_CIVM              31 non-null     float64\n",
      " 39  NIV_EDUM              31 non-null     float64\n",
      " 40  ULTCURMAD             31 non-null     float64\n",
      " 41  EMB_FAL               5138 non-null   float64\n",
      " 42  EMB_SEM               5138 non-null   float64\n",
      " 43  EMB_MES               5138 non-null   float64\n",
      " 44  CODOCUR               4 non-null      float64\n",
      " 45  CODMUNOC              4 non-null      float64\n",
      " 46  C_MUERTE              316 non-null    float64\n",
      " 47  C_MUERTEB             35882 non-null  float64\n",
      " 48  C_MUERTEC             5079 non-null   float64\n",
      " 49  C_MUERTED             13792 non-null  float64\n",
      " 50  C_MUERTEE             0 non-null      float64\n",
      " 51  ASIS_MED              42644 non-null  int64  \n",
      " 52  CAUSA_MULT            42644 non-null  object \n",
      " 53  C_BAS1                42644 non-null  object \n",
      " 54  NOMBRE CIE-10         42644 non-null  object \n",
      " 55  CUENTA DE ALTO COSTO  42644 non-null  object \n",
      " 56  CAUSA_667             42644 non-null  int64  \n",
      " 57  IDPROFCER             42644 non-null  int64  \n",
      " 58  CAU_HOMOL             42644 non-null  int64  \n",
      "dtypes: float64(29), int64(23), object(7)\n",
      "memory usage: 19.2+ MB\n"
     ]
    }
   ],
   "source": [
    "\n",
    "# Confirmar la ruta actual\n",
    "print(\"Ruta actual:\", os.getcwd())\n",
    "\n",
    "# Ruta completa al archivo Excel\n",
    "ruta_excel = r\"C:\\Users\\juans\\Documents\\GitHub\\cuenta-alto-costo\\Mortalidad 2019 colombia1.xlsx\"\n",
    "\n",
    "# Ver qué hojas tiene el archivo\n",
    "hojas = pd.ExcelFile(ruta_excel).sheet_names\n",
    "print(\"Hojas disponibles:\", hojas)\n",
    "\n",
    "# Leer la hoja específica \"BD FINAL\"\n",
    "datos_mortalidad = pd.read_excel(ruta_excel, sheet_name=\"BD FINAL\")\n",
    "\n",
    "# Mostrar la información del DataFrame\n",
    "datos_mortalidad.info()"
   ]
  },
  {
   "cell_type": "markdown",
   "id": "2f49b944",
   "metadata": {},
   "source": [
    "Las siguientes variables se relacionan con la variable \"survived\":\n",
    "\n",
    "* `boat`: El número del bote salvavidas (si sobrevivieron)\n",
    "* `body`: El número del cuerpo (si no sobrevivieron y el cuerpo fue recuperado)\n",
    "\n",
    "**Tener presente** un concepto fundamental que se conoce como ***data leakage***, el cual significa que algunas columnas podrían traer consigo la variable que vamos a predecir. Por ejemplo: si conocemos el número del bote salvavidas, esto implica que el pasajero sobrevivió, por lo tanto, la variable \"survived\" ya se conocería de manera implícita."
   ]
  },
  {
   "cell_type": "code",
   "execution_count": 11,
   "id": "4185d422",
   "metadata": {},
   "outputs": [],
   "source": [
    "columnas_a_usar = [\n",
    "    \"pclass\",\n",
    "    \"survived\",\n",
    "    \"name\",\n",
    "    \"sex\",\n",
    "    \"age\",\n",
    "    \"sibsp\",\n",
    "    \"parch\",\n",
    "    \"ticket\",\n",
    "    \"fare\",\n",
    "    \"cabin\",\n",
    "    \"embarked\",\n",
    "    \"home.dest\",\n",
    "]"
   ]
  },
  {
   "cell_type": "code",
   "execution_count": 4,
   "id": "4f1d3972",
   "metadata": {},
   "outputs": [
    {
     "name": "stdout",
     "output_type": "stream",
     "text": [
      "<class 'pandas.core.frame.DataFrame'>\n",
      "RangeIndex: 1309 entries, 0 to 1308\n",
      "Data columns (total 12 columns):\n",
      " #   Column     Non-Null Count  Dtype \n",
      "---  ------     --------------  ----- \n",
      " 0   pclass     1309 non-null   int64 \n",
      " 1   survived   1309 non-null   int64 \n",
      " 2   name       1309 non-null   object\n",
      " 3   sex        1309 non-null   object\n",
      " 4   age        1309 non-null   object\n",
      " 5   sibsp      1309 non-null   int64 \n",
      " 6   parch      1309 non-null   int64 \n",
      " 7   ticket     1309 non-null   object\n",
      " 8   fare       1309 non-null   object\n",
      " 9   cabin      1309 non-null   object\n",
      " 10  embarked   1309 non-null   object\n",
      " 11  home.dest  1309 non-null   object\n",
      "dtypes: int64(4), object(8)\n",
      "memory usage: 122.8+ KB\n"
     ]
    }
   ],
   "source": [
    "# Para tenerlos en formato csv\n",
    "datos_titanic_final = pd.read_csv(url_datos, usecols=columnas_a_usar, low_memory=False)\n",
    "\n",
    "# Verificamos que se hayan cargado las columnas que queríamos\n",
    "datos_titanic_final.info()"
   ]
  },
  {
   "cell_type": "code",
   "execution_count": 5,
   "id": "67c51560",
   "metadata": {},
   "outputs": [],
   "source": [
    "# Obtener la ruta del notebook actual\n",
    "ruta_datos_crudos = Path.cwd().resolve().parent / \"datos\"\n",
    "\n",
    "ruta_archivo = ruta_datos_crudos / \"01_datos_crudos_titanic.parquet\"\n",
    "\n",
    "# Crear directorio si no existe\n",
    "ruta_datos_crudos.mkdir(parents=True, exist_ok=True)\n",
    "\n",
    "# Guardar el DataFrame en el archivo parquet\n",
    "datos_titanic_final.to_parquet(ruta_archivo, index=False)"
   ]
  }
 ],
 "metadata": {
  "kernelspec": {
   "display_name": "base",
   "language": "python",
   "name": "python3"
  },
  "language_info": {
   "codemirror_mode": {
    "name": "ipython",
    "version": 3
   },
   "file_extension": ".py",
   "mimetype": "text/x-python",
   "name": "python",
   "nbconvert_exporter": "python",
   "pygments_lexer": "ipython3",
   "version": "3.13.5"
  }
 },
 "nbformat": 4,
 "nbformat_minor": 5
}
